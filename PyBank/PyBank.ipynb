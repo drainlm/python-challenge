{
 "cells": [
  {
   "cell_type": "code",
   "execution_count": 3,
   "metadata": {},
   "outputs": [],
   "source": [
    "# Importing Dependencies\n",
    "import pandas as pd"
   ]
  },
  {
   "cell_type": "code",
   "execution_count": 4,
   "metadata": {},
   "outputs": [],
   "source": [
    "# Referencing to the budget_data.csv file path\n",
    "path = \"budget_data.csv\"\n",
    "\n",
    "# Importing the budget_data.csv file as a DataFrame\n",
    "budget_df = pd.read_csv(path)"
   ]
  },
  {
   "cell_type": "code",
   "execution_count": 5,
   "metadata": {},
   "outputs": [],
   "source": [
    "# Determine total number of months included in the dataset\n",
    "# Using the value_counts function on Date column to identify the series of unique months\n",
    "months = budget_df['Date'].value_counts()\n",
    "\n",
    "# Using the len function to determine the number of months in the Date column\n",
    "num_months = len(months)"
   ]
  },
  {
   "cell_type": "code",
   "execution_count": 6,
   "metadata": {},
   "outputs": [],
   "source": [
    "# Determine the net total amount of \"Profit/Losses\" over the entire period by using sum for the Profit/Losses column\n",
    "net_total = budget_df['Profit/Losses'].sum()"
   ]
  },
  {
   "cell_type": "code",
   "execution_count": 7,
   "metadata": {},
   "outputs": [],
   "source": [
    "# Determine the changes in \"Profit/Losses\" over the entire period using the difference function\n",
    "changes = budget_df['Profit/Losses'].diff()\n",
    "\n",
    "#Averaging the changes found above using the mean function\n",
    "average_change = changes.mean()"
   ]
  },
  {
   "cell_type": "code",
   "execution_count": 8,
   "metadata": {},
   "outputs": [],
   "source": [
    "# Determine the greatest increase in profits (date and amount) over the entire period \n",
    "# Finding the max value in the index using the indexmax function\n",
    "max_diff_index = changes.idxmax()\n",
    "\n",
    "# Locating the greatest increase date by using loc function with the max_diff_index and the Date column\n",
    "max_diff_date = budget_df.loc[max_diff_index, 'Date']\n",
    "\n",
    "# Locating the greatest increase value by using loc function with the max_diff_index on the changes dataframe\n",
    "max_diff_amount = changes.loc[max_diff_index]"
   ]
  },
  {
   "cell_type": "code",
   "execution_count": 9,
   "metadata": {},
   "outputs": [],
   "source": [
    "# Determine the greatest decrease in profits (date and amount) over the entire period\n",
    "# Finding the min value in the index using the indexmin function\n",
    "min_diff_index = changes.idxmin()\n",
    "\n",
    "# Locating the greatest decrease date by using loc function with the min_diff_index and the Date column\n",
    "min_diff_date = budget_df.loc[min_diff_index, 'Date']\n",
    "\n",
    "# Locating the greatest decrease value by using loc function with the min_diff_index on the changes dataframe\n",
    "min_diff_amount = changes.loc[min_diff_index]"
   ]
  },
  {
   "cell_type": "code",
   "execution_count": 10,
   "metadata": {},
   "outputs": [
    {
     "name": "stdout",
     "output_type": "stream",
     "text": [
      "Financial Analysis\n",
      "----------------------------\n",
      "Total Months:  86\n",
      "Total:  22564198\n",
      "Average Change:  -8311.105882352942\n",
      "Greatest Increase in Profits:  Aug-16 1862002.0\n",
      "Greatest Decrease in Profits:  Feb-14 -1825558.0\n"
     ]
    }
   ],
   "source": [
    "# Print the data summary for the Financial Analysis \n",
    "print(\"Financial Analysis\")\n",
    "print(\"----------------------------\")\n",
    "print(\"Total Months: \", num_months)\n",
    "print(\"Total: \", net_total)\n",
    "print(\"Average Change: \", average_change)\n",
    "print(\"Greatest Increase in Profits: \", max_diff_date, max_diff_amount)\n",
    "print(\"Greatest Decrease in Profits: \", min_diff_date, min_diff_amount)"
   ]
  },
  {
   "cell_type": "code",
   "execution_count": 11,
   "metadata": {},
   "outputs": [],
   "source": [
    "## Export a text file with the results \n",
    "\n",
    "summary_results = ['Financial Analysis', '----------------------------', 'Total Months: ', num_months, 'Total: ', net_total, 'Average Change: ', average_change, 'Greatest Increase in Profits: ', max_diff_date, max_diff_amount, 'Greatest Decrease in Profits: ', min_diff_date, min_diff_amount]\n",
    "\n",
    "dataFile = open('Financial Analysis.txt', 'w')\n",
    "\n",
    "for eachitem in summary_results: \n",
    "    dataFile.write(str(eachitem)+'\\n')\n",
    "\n",
    "dataFile.close()\n"
   ]
  },
  {
   "cell_type": "code",
   "execution_count": null,
   "metadata": {},
   "outputs": [],
   "source": [
    "## Export a text file with the results \n",
    "\n",
    "summary_results = (f'Financial Analysis\\n----------------------------\\nTotal Months: {num_months}\\nTotal:{net_total}\\nAverage Change:{average_change}\\nGreatest Increase in Profits:{max_diff_date},{max_diff_amount}\\nGreatest Decrease in Profits:{min_diff_date},{min_diff_amount})\n",
    "\n",
    "dataFile = open('Financial Analysis.txt', 'w')\n",
    "\n",
    "for eachitem in summary_results: \n",
    "    dataFile.write(str(eachitem)+'\\n')\n",
    "\n",
    "dataFile.close()\n"
   ]
  },
  {
   "cell_type": "code",
   "execution_count": 12,
   "metadata": {},
   "outputs": [],
   "source": [
    "# Financial Analysis\n",
    "# ----------------------------\n",
    "# Total Months: 86\n",
    "# Total: $22564198\n",
    "# Average Change: $-8311.11\n",
    "# Greatest Increase in Profits: Aug-16 ($1862002)\n",
    "# Greatest Decrease in Profits: Feb-14 ($-1825558)"
   ]
  }
 ],
 "metadata": {
  "kernelspec": {
   "display_name": "base",
   "language": "python",
   "name": "python3"
  },
  "language_info": {
   "codemirror_mode": {
    "name": "ipython",
    "version": 3
   },
   "file_extension": ".py",
   "mimetype": "text/x-python",
   "name": "python",
   "nbconvert_exporter": "python",
   "pygments_lexer": "ipython3",
   "version": "3.9.13"
  },
  "orig_nbformat": 4,
  "vscode": {
   "interpreter": {
    "hash": "2bbe13bfade00958a2bb64ba3746b3795b822aba595af4507330d302cbdd39f5"
   }
  }
 },
 "nbformat": 4,
 "nbformat_minor": 2
}
