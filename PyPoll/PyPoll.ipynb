{
 "cells": [
  {
   "cell_type": "code",
   "execution_count": 1,
   "metadata": {},
   "outputs": [],
   "source": [
    "# Importing Dependencies\n",
    "import pandas as pd"
   ]
  },
  {
   "cell_type": "code",
   "execution_count": 2,
   "metadata": {},
   "outputs": [],
   "source": [
    "# Referencing to the budget_data.csv file path\n",
    "path = \"election_data.csv\"\n",
    "\n",
    "# Importing the budget_data.csv file as a DataFrame\n",
    "election_df = pd.read_csv(path)"
   ]
  },
  {
   "cell_type": "code",
   "execution_count": 3,
   "metadata": {},
   "outputs": [],
   "source": [
    "## Determine the total number of votes cast\n",
    "# Using the value_counts function on Ballot ID column to identify the series of IDs\n",
    "total_votes = election_df['Ballot ID'].value_counts().sum()"
   ]
  },
  {
   "cell_type": "code",
   "execution_count": 4,
   "metadata": {},
   "outputs": [],
   "source": [
    "## Compile a complete list of candidates who received votes\n",
    "# Using the unique function, get the unique values in the Candidate column \n",
    "candidates = election_df['Candidate'].unique()"
   ]
  },
  {
   "cell_type": "code",
   "execution_count": 5,
   "metadata": {},
   "outputs": [],
   "source": [
    "## Calculate the total number of votes each candidate won\n",
    "# Using the value_counts function on the Candidate column to identify the series of names\n",
    "candidate_total_votes = election_df['Candidate'].value_counts() \n",
    "\n",
    "# Creating a dictionary to store the candidates, percentage of votes, and number of votes won\n",
    "candidate_data = {}\n",
    "\n",
    "# Looping over the candidate_total_votes object\n",
    "for candidate, votes in candidate_total_votes.items():\n",
    "    # Calculating the percentage of votes each candidate won using a simple formula\n",
    "    percentage = (votes/total_votes) * 100\n",
    "    #Adding candidate data to the dictionary\n",
    "    candidate_data[candidate] = [percentage, votes]\n"
   ]
  },
  {
   "cell_type": "code",
   "execution_count": 6,
   "metadata": {},
   "outputs": [],
   "source": [
    "## Determine the winner of the election based on popular vote\n",
    "# Finding the winner by using indexmax function to search Candidate \n",
    "# column for the candidate with the highest vote count in the series\n",
    "\n",
    "winner = candidate_total_votes.idxmax()"
   ]
  },
  {
   "cell_type": "code",
   "execution_count": 7,
   "metadata": {},
   "outputs": [
    {
     "name": "stdout",
     "output_type": "stream",
     "text": [
      "Election Results\n",
      "-------------------------\n",
      "Total Votes:  369711\n",
      "-------------------------\n",
      "{'Diana DeGette': [73.81224794501652, 272892], 'Charles Casper Stockham': [23.04854332167558, 85213], 'Raymon Anthony Doane': [3.1392087333079077, 11606]}\n",
      "-------------------------\n",
      "Winner:  Diana DeGette\n"
     ]
    }
   ],
   "source": [
    "# Print the data summary for the Election Results\n",
    "print(\"Election Results\")\n",
    "print(\"-------------------------\")\n",
    "print(\"Total Votes: \", total_votes)\n",
    "print(\"-------------------------\")\n",
    "print(candidate_data)\n",
    "print(\"-------------------------\")\n",
    "print(\"Winner: \", winner)"
   ]
  },
  {
   "cell_type": "code",
   "execution_count": 13,
   "metadata": {},
   "outputs": [],
   "source": [
    "## Export a text file with the results \n",
    "\n",
    "summary_results = ['Election Results', '-------------------------', 'Total Votes: ', total_votes, candidate_data, '-------------------------', winner]\n",
    "\n",
    "dataFile = open('Election Results.txt', 'w')\n",
    "\n",
    "for eachitem in summary_results: \n",
    "    dataFile.write(str(eachitem)+'\\n')\n",
    "\n",
    "dataFile.close()\n"
   ]
  },
  {
   "cell_type": "code",
   "execution_count": null,
   "metadata": {},
   "outputs": [],
   "source": [
    "#Election Results\n",
    "#-------------------------\n",
    "#Total Votes: 369711\n",
    "#-------------------------\n",
    "#Charles Casper Stockham: 23.049% (85213)\n",
    "#Diana DeGette: 73.812% (272892)\n",
    "#Raymon Anthony Doane: 3.139% (11606)\n",
    "#-------------------------\n",
    "#Winner: Diana DeGette"
   ]
  }
 ],
 "metadata": {
  "kernelspec": {
   "display_name": "PythonData",
   "language": "python",
   "name": "pythondata"
  },
  "language_info": {
   "codemirror_mode": {
    "name": "ipython",
    "version": 3
   },
   "file_extension": ".py",
   "mimetype": "text/x-python",
   "name": "python",
   "nbconvert_exporter": "python",
   "pygments_lexer": "ipython3",
   "version": "3.9.13"
  },
  "orig_nbformat": 4,
  "vscode": {
   "interpreter": {
    "hash": "2bbe13bfade00958a2bb64ba3746b3795b822aba595af4507330d302cbdd39f5"
   }
  }
 },
 "nbformat": 4,
 "nbformat_minor": 2
}
